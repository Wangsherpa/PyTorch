{
 "cells": [
  {
   "cell_type": "markdown",
   "metadata": {},
   "source": [
    "# Multiclass Classification (Iris Dataset)"
   ]
  },
  {
   "cell_type": "markdown",
   "metadata": {},
   "source": [
    "## Loading data"
   ]
  },
  {
   "cell_type": "code",
   "execution_count": 1,
   "metadata": {},
   "outputs": [],
   "source": [
    "from sklearn.datasets import load_iris\n",
    "from sklearn.model_selection import train_test_split\n",
    "\n",
    "iris_data = load_iris()\n",
    "X = iris_data[\"data\"]\n",
    "y = iris_data[\"target\"]\n",
    "class_names = iris_data[\"target_names\"]\n",
    "feature_names = iris_data[\"feature_names\"]"
   ]
  },
  {
   "cell_type": "code",
   "execution_count": 2,
   "metadata": {},
   "outputs": [
    {
     "data": {
      "text/plain": [
       "(150, 4)"
      ]
     },
     "execution_count": 2,
     "metadata": {},
     "output_type": "execute_result"
    }
   ],
   "source": [
    "X.shape"
   ]
  },
  {
   "cell_type": "code",
   "execution_count": 3,
   "metadata": {},
   "outputs": [
    {
     "data": {
      "text/plain": [
       "(150,)"
      ]
     },
     "execution_count": 3,
     "metadata": {},
     "output_type": "execute_result"
    }
   ],
   "source": [
    "y.shape"
   ]
  },
  {
   "cell_type": "code",
   "execution_count": 4,
   "metadata": {},
   "outputs": [
    {
     "data": {
      "text/plain": [
       "array(['setosa', 'versicolor', 'virginica'], dtype='<U10')"
      ]
     },
     "execution_count": 4,
     "metadata": {},
     "output_type": "execute_result"
    }
   ],
   "source": [
    "class_names"
   ]
  },
  {
   "cell_type": "code",
   "execution_count": 5,
   "metadata": {},
   "outputs": [
    {
     "data": {
      "text/plain": [
       "['sepal length (cm)',\n",
       " 'sepal width (cm)',\n",
       " 'petal length (cm)',\n",
       " 'petal width (cm)']"
      ]
     },
     "execution_count": 5,
     "metadata": {},
     "output_type": "execute_result"
    }
   ],
   "source": [
    "feature_names"
   ]
  },
  {
   "cell_type": "markdown",
   "metadata": {},
   "source": [
    "## Preprocessing the data"
   ]
  },
  {
   "cell_type": "code",
   "execution_count": 6,
   "metadata": {},
   "outputs": [
    {
     "data": {
      "text/plain": [
       "((120, 4), (30, 4), (120,), (30,))"
      ]
     },
     "execution_count": 6,
     "metadata": {},
     "output_type": "execute_result"
    }
   ],
   "source": [
    "from sklearn.preprocessing import StandardScaler\n",
    "\n",
    "scaler = StandardScaler()\n",
    "# X_scaled = scaler.fit_transform(X)\n",
    "\n",
    "X_train, X_test, y_train, y_test = train_test_split(X, y, test_size=0.2, random_state=42)\n",
    "\n",
    "X_train = scaler.fit_transform(X_train)\n",
    "X_test = scaler.transform(X_test)\n",
    "X_train.shape, X_test.shape, y_train.shape, y_test.shape"
   ]
  },
  {
   "cell_type": "markdown",
   "metadata": {},
   "source": [
    "## Converting to PyTorch Dataset"
   ]
  },
  {
   "cell_type": "code",
   "execution_count": 7,
   "metadata": {},
   "outputs": [],
   "source": [
    "import torch\n",
    "from torch.utils.data import Dataset\n",
    "\n",
    "class IrisDataset(Dataset):\n",
    "    def __init__(self, X, y):\n",
    "        self.data = X\n",
    "        self.labels = y\n",
    "\n",
    "    def __getitem__(self, index):\n",
    "        x = torch.tensor(self.data[index], dtype=torch.float32)\n",
    "        label = torch.tensor(self.labels[index], dtype=torch.long)\n",
    "        return (x, label)\n",
    "    \n",
    "    def __len__(self):\n",
    "        return len(self.data)"
   ]
  },
  {
   "cell_type": "code",
   "execution_count": 8,
   "metadata": {},
   "outputs": [
    {
     "data": {
      "text/plain": [
       "(120, 30)"
      ]
     },
     "execution_count": 8,
     "metadata": {},
     "output_type": "execute_result"
    }
   ],
   "source": [
    "train_ds = IrisDataset(X_train, y_train)\n",
    "test_ds = IrisDataset(X_test, y_test)\n",
    "\n",
    "len(train_ds), len(test_ds)"
   ]
  },
  {
   "cell_type": "code",
   "execution_count": 9,
   "metadata": {},
   "outputs": [
    {
     "data": {
      "text/plain": [
       "(tensor([-1.2301,  0.7565, -1.2187, -1.3126]), tensor(0))"
      ]
     },
     "execution_count": 9,
     "metadata": {},
     "output_type": "execute_result"
    }
   ],
   "source": [
    "train_ds[3]"
   ]
  },
  {
   "cell_type": "markdown",
   "metadata": {},
   "source": [
    "## Creating PyTorch DataLoaders"
   ]
  },
  {
   "cell_type": "code",
   "execution_count": 10,
   "metadata": {},
   "outputs": [
    {
     "data": {
      "text/plain": [
       "(15, 4)"
      ]
     },
     "execution_count": 10,
     "metadata": {},
     "output_type": "execute_result"
    }
   ],
   "source": [
    "from torch.utils.data import DataLoader\n",
    "\n",
    "train_loader = DataLoader(\n",
    "    dataset=train_ds,\n",
    "    batch_size=8,\n",
    "    shuffle=True,\n",
    "    num_workers=0\n",
    ")\n",
    "\n",
    "test_loader = DataLoader(\n",
    "    dataset=test_ds,\n",
    "    batch_size=8,\n",
    "    shuffle=False,\n",
    "    num_workers=0\n",
    ")\n",
    "\n",
    "len(train_loader), len(test_loader)"
   ]
  },
  {
   "cell_type": "code",
   "execution_count": 11,
   "metadata": {},
   "outputs": [
    {
     "name": "stdout",
     "output_type": "stream",
     "text": [
      "Input_batch:\n",
      "tensor([[-0.8645,  1.6508, -1.2187, -1.3126],\n",
      "        [-0.8645,  0.9801, -1.3333, -1.3126],\n",
      "        [-0.2550, -0.8086,  0.2712,  0.1557],\n",
      "        [-1.1082, -1.4794, -0.2445, -0.2447],\n",
      "        [-0.9863,  0.5329, -1.3333, -1.3126],\n",
      "        [ 1.3297,  0.0857,  0.9589,  1.2236],\n",
      "        [ 0.7202,  0.3093,  0.4432,  0.4227],\n",
      "        [ 0.2326, -1.9266,  0.7297,  0.4227]])\n",
      "target_batch:\n",
      "tensor([0, 0, 1, 1, 0, 2, 1, 2])\n"
     ]
    }
   ],
   "source": [
    "for (x, y) in train_loader:\n",
    "    break\n",
    "\n",
    "print(f\"Input_batch:\\n{x}\")\n",
    "print(f\"target_batch:\\n{y}\")"
   ]
  },
  {
   "cell_type": "markdown",
   "metadata": {},
   "source": [
    "## Creating Simple Neural Network Architecture"
   ]
  },
  {
   "cell_type": "code",
   "execution_count": 12,
   "metadata": {},
   "outputs": [],
   "source": [
    "import torch.nn as nn\n",
    "\n",
    "class SimpleNN(nn.Module):\n",
    "    def __init__(self, input_dim, num_classes):\n",
    "        super().__init__()\n",
    "        self.layer1 = nn.Linear(input_dim, 4)\n",
    "        self.layer2 = nn.Linear(4, 4)\n",
    "        self.out_layer = nn.Linear(4, num_classes)\n",
    "\n",
    "        self.relu = nn.ReLU()\n",
    "\n",
    "    def forward(self, x):\n",
    "        x = self.layer1(x)\n",
    "        x = self.relu(x)\n",
    "        x = self.layer2(x)\n",
    "        x = self.relu(x)\n",
    "        x = self.out_layer(x)\n",
    "        return x"
   ]
  },
  {
   "cell_type": "code",
   "execution_count": 13,
   "metadata": {},
   "outputs": [
    {
     "data": {
      "text/plain": [
       "array(['setosa', 'versicolor', 'virginica'], dtype='<U10')"
      ]
     },
     "execution_count": 13,
     "metadata": {},
     "output_type": "execute_result"
    }
   ],
   "source": [
    "class_names"
   ]
  },
  {
   "cell_type": "code",
   "execution_count": 14,
   "metadata": {},
   "outputs": [
    {
     "data": {
      "text/plain": [
       "tensor([[ 0.3752,  0.2492,  0.1007],\n",
       "        [ 0.2952,  0.2389,  0.1440],\n",
       "        [ 0.1150,  0.1937, -0.0591],\n",
       "        [ 0.0343,  0.1955,  0.1207],\n",
       "        [ 0.2424,  0.2322,  0.1885],\n",
       "        [ 0.1336,  0.1958, -0.0610],\n",
       "        [ 0.1336,  0.1958, -0.0610],\n",
       "        [ 0.1122,  0.1937, -0.0568]])"
      ]
     },
     "execution_count": 14,
     "metadata": {},
     "output_type": "execute_result"
    }
   ],
   "source": [
    "torch.manual_seed(123)\n",
    "\n",
    "model = SimpleNN(input_dim=X_train.shape[-1], num_classes=len(class_names))\n",
    "with torch.no_grad():\n",
    "    logits = model(x)\n",
    "\n",
    "logits"
   ]
  },
  {
   "cell_type": "code",
   "execution_count": 15,
   "metadata": {},
   "outputs": [],
   "source": [
    "# utility function to calculate accuracy\n",
    "def calculate_loader_accuracy(data_loader, model):\n",
    "    model.eval()\n",
    "    num_samples = 0\n",
    "    correct = 0\n",
    "    for (x_batch, target_batch) in data_loader:\n",
    "        with torch.no_grad():\n",
    "            logits = model(x_batch)\n",
    "        predicted_labels = torch.argmax(logits, dim=-1)\n",
    "        correct += sum(predicted_labels == target_batch)\n",
    "        num_samples += predicted_labels.shape[0]\n",
    "\n",
    "    return (correct / num_samples).item()\n",
    "    \n",
    "    "
   ]
  },
  {
   "cell_type": "code",
   "execution_count": 16,
   "metadata": {},
   "outputs": [],
   "source": [
    "optimizer = torch.optim.Adam(model.parameters(), lr=0.001)\n",
    "loss_fn = torch.nn.CrossEntropyLoss()"
   ]
  },
  {
   "cell_type": "code",
   "execution_count": 17,
   "metadata": {},
   "outputs": [],
   "source": [
    "# utility function to evaluate the model\n",
    "def evaluate(data_loader, model):\n",
    "    model.eval()\n",
    "    num_samples = 0\n",
    "    correct = 0\n",
    "    total_loss = 0.0\n",
    "    for (x_batch, target_batch) in data_loader:\n",
    "        with torch.no_grad():\n",
    "            logits = model(x_batch)\n",
    "        loss = loss_fn(logits, target_batch)\n",
    "        predicted_labels = torch.argmax(logits, dim=-1)\n",
    "        correct += sum(predicted_labels == target_batch)\n",
    "        num_samples += predicted_labels.shape[0]\n",
    "        total_loss += loss.item()\n",
    "\n",
    "    return (correct / num_samples).item(), (total_loss / len(data_loader))"
   ]
  },
  {
   "cell_type": "markdown",
   "metadata": {},
   "source": [
    "## Simple PyTorch Training Loop"
   ]
  },
  {
   "cell_type": "code",
   "execution_count": 18,
   "metadata": {},
   "outputs": [
    {
     "name": "stdout",
     "output_type": "stream",
     "text": [
      "Epoch: 01/200  | Train loss: 1.0880 | Train acc: 0.6417  | Valid loss: 1.0992  | Valid acc: 0.6333\n",
      "Epoch: 02/200  | Train loss: 1.0656 | Train acc: 0.6667  | Valid loss: 1.0789  | Valid acc: 0.6333\n",
      "Epoch: 03/200  | Train loss: 1.0457 | Train acc: 0.6667  | Valid loss: 1.0594  | Valid acc: 0.6333\n",
      "Epoch: 04/200  | Train loss: 1.0256 | Train acc: 0.6750  | Valid loss: 1.0407  | Valid acc: 0.6333\n",
      "Epoch: 05/200  | Train loss: 1.0061 | Train acc: 0.6750  | Valid loss: 1.0213  | Valid acc: 0.6333\n",
      "Epoch: 06/200  | Train loss: 0.9871 | Train acc: 0.6750  | Valid loss: 1.0012  | Valid acc: 0.6333\n",
      "Epoch: 07/200  | Train loss: 0.9663 | Train acc: 0.6750  | Valid loss: 0.9810  | Valid acc: 0.6333\n",
      "Epoch: 08/200  | Train loss: 0.9448 | Train acc: 0.6750  | Valid loss: 0.9590  | Valid acc: 0.6333\n",
      "Epoch: 09/200  | Train loss: 0.9216 | Train acc: 0.6667  | Valid loss: 0.9361  | Valid acc: 0.6333\n",
      "Epoch: 10/200  | Train loss: 0.8978 | Train acc: 0.6583  | Valid loss: 0.9134  | Valid acc: 0.6333\n",
      "Epoch: 11/200  | Train loss: 0.8748 | Train acc: 0.6583  | Valid loss: 0.8911  | Valid acc: 0.6333\n",
      "Epoch: 12/200  | Train loss: 0.8533 | Train acc: 0.6583  | Valid loss: 0.8688  | Valid acc: 0.6333\n",
      "Epoch: 13/200  | Train loss: 0.8322 | Train acc: 0.6583  | Valid loss: 0.8486  | Valid acc: 0.6333\n",
      "Epoch: 14/200  | Train loss: 0.8139 | Train acc: 0.6583  | Valid loss: 0.8292  | Valid acc: 0.6333\n",
      "Epoch: 15/200  | Train loss: 0.7966 | Train acc: 0.6583  | Valid loss: 0.8123  | Valid acc: 0.6333\n",
      "Epoch: 16/200  | Train loss: 0.7815 | Train acc: 0.6583  | Valid loss: 0.7968  | Valid acc: 0.6333\n",
      "Epoch: 17/200  | Train loss: 0.7680 | Train acc: 0.6583  | Valid loss: 0.7831  | Valid acc: 0.6333\n",
      "Epoch: 18/200  | Train loss: 0.7562 | Train acc: 0.6583  | Valid loss: 0.7706  | Valid acc: 0.6333\n",
      "Epoch: 19/200  | Train loss: 0.7455 | Train acc: 0.6583  | Valid loss: 0.7595  | Valid acc: 0.6333\n",
      "Epoch: 20/200  | Train loss: 0.7360 | Train acc: 0.6583  | Valid loss: 0.7492  | Valid acc: 0.6333\n",
      "Epoch: 21/200  | Train loss: 0.7272 | Train acc: 0.6583  | Valid loss: 0.7402  | Valid acc: 0.6333\n",
      "Epoch: 22/200  | Train loss: 0.7193 | Train acc: 0.6583  | Valid loss: 0.7320  | Valid acc: 0.6333\n",
      "Epoch: 23/200  | Train loss: 0.7120 | Train acc: 0.6583  | Valid loss: 0.7242  | Valid acc: 0.6333\n",
      "Epoch: 24/200  | Train loss: 0.7053 | Train acc: 0.6583  | Valid loss: 0.7172  | Valid acc: 0.6333\n",
      "Epoch: 25/200  | Train loss: 0.6990 | Train acc: 0.6583  | Valid loss: 0.7106  | Valid acc: 0.6333\n",
      "Epoch: 26/200  | Train loss: 0.6931 | Train acc: 0.6583  | Valid loss: 0.7044  | Valid acc: 0.6333\n",
      "Epoch: 27/200  | Train loss: 0.6874 | Train acc: 0.6667  | Valid loss: 0.6985  | Valid acc: 0.6333\n",
      "Epoch: 28/200  | Train loss: 0.6821 | Train acc: 0.6667  | Valid loss: 0.6929  | Valid acc: 0.6333\n",
      "Epoch: 29/200  | Train loss: 0.6769 | Train acc: 0.6667  | Valid loss: 0.6876  | Valid acc: 0.6333\n",
      "Epoch: 30/200  | Train loss: 0.6720 | Train acc: 0.6750  | Valid loss: 0.6827  | Valid acc: 0.6333\n",
      "Epoch: 31/200  | Train loss: 0.6673 | Train acc: 0.6750  | Valid loss: 0.6781  | Valid acc: 0.6333\n",
      "Epoch: 32/200  | Train loss: 0.6627 | Train acc: 0.6750  | Valid loss: 0.6733  | Valid acc: 0.6333\n",
      "Epoch: 33/200  | Train loss: 0.6582 | Train acc: 0.6750  | Valid loss: 0.6686  | Valid acc: 0.6333\n",
      "Epoch: 34/200  | Train loss: 0.6537 | Train acc: 0.6750  | Valid loss: 0.6644  | Valid acc: 0.6333\n",
      "Epoch: 35/200  | Train loss: 0.6496 | Train acc: 0.6750  | Valid loss: 0.6601  | Valid acc: 0.6333\n",
      "Epoch: 36/200  | Train loss: 0.6452 | Train acc: 0.6750  | Valid loss: 0.6561  | Valid acc: 0.6333\n",
      "Epoch: 37/200  | Train loss: 0.6411 | Train acc: 0.6750  | Valid loss: 0.6518  | Valid acc: 0.6333\n",
      "Epoch: 38/200  | Train loss: 0.6367 | Train acc: 0.6750  | Valid loss: 0.6474  | Valid acc: 0.6333\n",
      "Epoch: 39/200  | Train loss: 0.6322 | Train acc: 0.6750  | Valid loss: 0.6429  | Valid acc: 0.6333\n",
      "Epoch: 40/200  | Train loss: 0.6274 | Train acc: 0.6750  | Valid loss: 0.6379  | Valid acc: 0.6333\n",
      "Epoch: 41/200  | Train loss: 0.6222 | Train acc: 0.6750  | Valid loss: 0.6326  | Valid acc: 0.6333\n",
      "Epoch: 42/200  | Train loss: 0.6166 | Train acc: 0.6750  | Valid loss: 0.6269  | Valid acc: 0.6333\n",
      "Epoch: 43/200  | Train loss: 0.6102 | Train acc: 0.6750  | Valid loss: 0.6208  | Valid acc: 0.6333\n",
      "Epoch: 44/200  | Train loss: 0.6035 | Train acc: 0.6750  | Valid loss: 0.6138  | Valid acc: 0.6333\n",
      "Epoch: 45/200  | Train loss: 0.5960 | Train acc: 0.6750  | Valid loss: 0.6063  | Valid acc: 0.6333\n",
      "Epoch: 46/200  | Train loss: 0.5886 | Train acc: 0.6750  | Valid loss: 0.5984  | Valid acc: 0.6333\n",
      "Epoch: 47/200  | Train loss: 0.5802 | Train acc: 0.6750  | Valid loss: 0.5917  | Valid acc: 0.6333\n",
      "Epoch: 48/200  | Train loss: 0.5734 | Train acc: 0.6750  | Valid loss: 0.5845  | Valid acc: 0.6333\n",
      "Epoch: 49/200  | Train loss: 0.5657 | Train acc: 0.6750  | Valid loss: 0.5781  | Valid acc: 0.6333\n",
      "Epoch: 50/200  | Train loss: 0.5587 | Train acc: 0.6750  | Valid loss: 0.5718  | Valid acc: 0.6333\n",
      "Epoch: 51/200  | Train loss: 0.5523 | Train acc: 0.6750  | Valid loss: 0.5658  | Valid acc: 0.6333\n",
      "Epoch: 52/200  | Train loss: 0.5468 | Train acc: 0.6750  | Valid loss: 0.5602  | Valid acc: 0.6333\n",
      "Epoch: 53/200  | Train loss: 0.5408 | Train acc: 0.6750  | Valid loss: 0.5548  | Valid acc: 0.6333\n",
      "Epoch: 54/200  | Train loss: 0.5359 | Train acc: 0.6750  | Valid loss: 0.5498  | Valid acc: 0.6333\n",
      "Epoch: 55/200  | Train loss: 0.5311 | Train acc: 0.6750  | Valid loss: 0.5450  | Valid acc: 0.6333\n",
      "Epoch: 56/200  | Train loss: 0.5272 | Train acc: 0.6750  | Valid loss: 0.5402  | Valid acc: 0.6333\n",
      "Epoch: 57/200  | Train loss: 0.5226 | Train acc: 0.6750  | Valid loss: 0.5362  | Valid acc: 0.6333\n",
      "Epoch: 58/200  | Train loss: 0.5186 | Train acc: 0.6750  | Valid loss: 0.5325  | Valid acc: 0.6333\n",
      "Epoch: 59/200  | Train loss: 0.5155 | Train acc: 0.6750  | Valid loss: 0.5289  | Valid acc: 0.6333\n",
      "Epoch: 60/200  | Train loss: 0.5114 | Train acc: 0.6750  | Valid loss: 0.5251  | Valid acc: 0.6333\n",
      "Epoch: 61/200  | Train loss: 0.5085 | Train acc: 0.6750  | Valid loss: 0.5211  | Valid acc: 0.6333\n",
      "Epoch: 62/200  | Train loss: 0.5054 | Train acc: 0.6750  | Valid loss: 0.5175  | Valid acc: 0.6333\n",
      "Epoch: 63/200  | Train loss: 0.5023 | Train acc: 0.6750  | Valid loss: 0.5146  | Valid acc: 0.6333\n",
      "Epoch: 64/200  | Train loss: 0.4997 | Train acc: 0.6750  | Valid loss: 0.5118  | Valid acc: 0.6333\n",
      "Epoch: 65/200  | Train loss: 0.4969 | Train acc: 0.6750  | Valid loss: 0.5085  | Valid acc: 0.6333\n",
      "Epoch: 66/200  | Train loss: 0.4942 | Train acc: 0.6750  | Valid loss: 0.5054  | Valid acc: 0.6333\n",
      "Epoch: 67/200  | Train loss: 0.4917 | Train acc: 0.6750  | Valid loss: 0.5025  | Valid acc: 0.6333\n",
      "Epoch: 68/200  | Train loss: 0.4893 | Train acc: 0.6750  | Valid loss: 0.4996  | Valid acc: 0.6333\n",
      "Epoch: 69/200  | Train loss: 0.4875 | Train acc: 0.6750  | Valid loss: 0.4976  | Valid acc: 0.6333\n",
      "Epoch: 70/200  | Train loss: 0.4847 | Train acc: 0.6750  | Valid loss: 0.4943  | Valid acc: 0.6333\n",
      "Epoch: 71/200  | Train loss: 0.4825 | Train acc: 0.6750  | Valid loss: 0.4917  | Valid acc: 0.6333\n",
      "Epoch: 72/200  | Train loss: 0.4806 | Train acc: 0.6750  | Valid loss: 0.4893  | Valid acc: 0.6333\n",
      "Epoch: 73/200  | Train loss: 0.4785 | Train acc: 0.6750  | Valid loss: 0.4863  | Valid acc: 0.6333\n",
      "Epoch: 74/200  | Train loss: 0.4768 | Train acc: 0.6750  | Valid loss: 0.4840  | Valid acc: 0.6333\n",
      "Epoch: 75/200  | Train loss: 0.4745 | Train acc: 0.6750  | Valid loss: 0.4819  | Valid acc: 0.6333\n",
      "Epoch: 76/200  | Train loss: 0.4727 | Train acc: 0.6750  | Valid loss: 0.4795  | Valid acc: 0.6333\n",
      "Epoch: 77/200  | Train loss: 0.4706 | Train acc: 0.6750  | Valid loss: 0.4771  | Valid acc: 0.6333\n",
      "Epoch: 78/200  | Train loss: 0.4691 | Train acc: 0.6750  | Valid loss: 0.4748  | Valid acc: 0.6333\n",
      "Epoch: 79/200  | Train loss: 0.4671 | Train acc: 0.6750  | Valid loss: 0.4729  | Valid acc: 0.6333\n",
      "Epoch: 80/200  | Train loss: 0.4653 | Train acc: 0.6750  | Valid loss: 0.4707  | Valid acc: 0.6333\n",
      "Epoch: 81/200  | Train loss: 0.4637 | Train acc: 0.6750  | Valid loss: 0.4684  | Valid acc: 0.6333\n",
      "Epoch: 82/200  | Train loss: 0.4618 | Train acc: 0.6750  | Valid loss: 0.4662  | Valid acc: 0.6333\n",
      "Epoch: 83/200  | Train loss: 0.4603 | Train acc: 0.6750  | Valid loss: 0.4643  | Valid acc: 0.6333\n",
      "Epoch: 84/200  | Train loss: 0.4585 | Train acc: 0.7833  | Valid loss: 0.4619  | Valid acc: 0.7333\n",
      "Epoch: 85/200  | Train loss: 0.4575 | Train acc: 0.7833  | Valid loss: 0.4595  | Valid acc: 0.7333\n",
      "Epoch: 86/200  | Train loss: 0.4553 | Train acc: 0.7917  | Valid loss: 0.4572  | Valid acc: 0.7333\n",
      "Epoch: 87/200  | Train loss: 0.4535 | Train acc: 0.7917  | Valid loss: 0.4554  | Valid acc: 0.7333\n",
      "Epoch: 88/200  | Train loss: 0.4522 | Train acc: 0.7917  | Valid loss: 0.4534  | Valid acc: 0.7667\n",
      "Epoch: 89/200  | Train loss: 0.4506 | Train acc: 0.8083  | Valid loss: 0.4509  | Valid acc: 0.7667\n",
      "Epoch: 90/200  | Train loss: 0.4486 | Train acc: 0.8083  | Valid loss: 0.4490  | Valid acc: 0.7667\n",
      "Epoch: 91/200  | Train loss: 0.4472 | Train acc: 0.8167  | Valid loss: 0.4467  | Valid acc: 0.8000\n",
      "Epoch: 92/200  | Train loss: 0.4454 | Train acc: 0.8167  | Valid loss: 0.4446  | Valid acc: 0.8000\n",
      "Epoch: 93/200  | Train loss: 0.4438 | Train acc: 0.8167  | Valid loss: 0.4428  | Valid acc: 0.8000\n",
      "Epoch: 94/200  | Train loss: 0.4425 | Train acc: 0.8167  | Valid loss: 0.4403  | Valid acc: 0.8000\n",
      "Epoch: 95/200  | Train loss: 0.4412 | Train acc: 0.8167  | Valid loss: 0.4387  | Valid acc: 0.8000\n",
      "Epoch: 96/200  | Train loss: 0.4392 | Train acc: 0.8167  | Valid loss: 0.4363  | Valid acc: 0.8333\n",
      "Epoch: 97/200  | Train loss: 0.4376 | Train acc: 0.8167  | Valid loss: 0.4343  | Valid acc: 0.8333\n",
      "Epoch: 98/200  | Train loss: 0.4359 | Train acc: 0.8333  | Valid loss: 0.4324  | Valid acc: 0.8333\n",
      "Epoch: 99/200  | Train loss: 0.4345 | Train acc: 0.8167  | Valid loss: 0.4302  | Valid acc: 0.8333\n",
      "Epoch: 100/200  | Train loss: 0.4333 | Train acc: 0.8167  | Valid loss: 0.4283  | Valid acc: 0.8333\n",
      "Epoch: 101/200  | Train loss: 0.4314 | Train acc: 0.8250  | Valid loss: 0.4257  | Valid acc: 0.8333\n",
      "Epoch: 102/200  | Train loss: 0.4295 | Train acc: 0.8167  | Valid loss: 0.4237  | Valid acc: 0.8333\n",
      "Epoch: 103/200  | Train loss: 0.4277 | Train acc: 0.8250  | Valid loss: 0.4217  | Valid acc: 0.8333\n",
      "Epoch: 104/200  | Train loss: 0.4265 | Train acc: 0.8167  | Valid loss: 0.4195  | Valid acc: 0.8333\n",
      "Epoch: 105/200  | Train loss: 0.4247 | Train acc: 0.8250  | Valid loss: 0.4175  | Valid acc: 0.8333\n",
      "Epoch: 106/200  | Train loss: 0.4223 | Train acc: 0.8167  | Valid loss: 0.4152  | Valid acc: 0.8333\n",
      "Epoch: 107/200  | Train loss: 0.4207 | Train acc: 0.8083  | Valid loss: 0.4130  | Valid acc: 0.8333\n",
      "Epoch: 108/200  | Train loss: 0.4186 | Train acc: 0.8083  | Valid loss: 0.4109  | Valid acc: 0.8333\n",
      "Epoch: 109/200  | Train loss: 0.4168 | Train acc: 0.8083  | Valid loss: 0.4086  | Valid acc: 0.8333\n",
      "Epoch: 110/200  | Train loss: 0.4149 | Train acc: 0.8083  | Valid loss: 0.4065  | Valid acc: 0.8667\n",
      "Epoch: 111/200  | Train loss: 0.4129 | Train acc: 0.8083  | Valid loss: 0.4042  | Valid acc: 0.8667\n",
      "Epoch: 112/200  | Train loss: 0.4110 | Train acc: 0.8083  | Valid loss: 0.4018  | Valid acc: 0.8667\n",
      "Epoch: 113/200  | Train loss: 0.4092 | Train acc: 0.8083  | Valid loss: 0.3996  | Valid acc: 0.8667\n",
      "Epoch: 114/200  | Train loss: 0.4068 | Train acc: 0.8083  | Valid loss: 0.3973  | Valid acc: 0.9000\n",
      "Epoch: 115/200  | Train loss: 0.4049 | Train acc: 0.8167  | Valid loss: 0.3948  | Valid acc: 0.9000\n",
      "Epoch: 116/200  | Train loss: 0.4029 | Train acc: 0.8167  | Valid loss: 0.3921  | Valid acc: 0.9000\n",
      "Epoch: 117/200  | Train loss: 0.4007 | Train acc: 0.8167  | Valid loss: 0.3896  | Valid acc: 0.9000\n",
      "Epoch: 118/200  | Train loss: 0.3986 | Train acc: 0.8167  | Valid loss: 0.3870  | Valid acc: 0.9000\n",
      "Epoch: 119/200  | Train loss: 0.3964 | Train acc: 0.8250  | Valid loss: 0.3844  | Valid acc: 0.9000\n",
      "Epoch: 120/200  | Train loss: 0.3942 | Train acc: 0.8333  | Valid loss: 0.3815  | Valid acc: 0.9333\n",
      "Epoch: 121/200  | Train loss: 0.3917 | Train acc: 0.8333  | Valid loss: 0.3790  | Valid acc: 0.9333\n",
      "Epoch: 122/200  | Train loss: 0.3893 | Train acc: 0.8333  | Valid loss: 0.3762  | Valid acc: 0.9333\n",
      "Epoch: 123/200  | Train loss: 0.3872 | Train acc: 0.8333  | Valid loss: 0.3733  | Valid acc: 0.9333\n",
      "Epoch: 124/200  | Train loss: 0.3845 | Train acc: 0.8417  | Valid loss: 0.3708  | Valid acc: 0.9333\n",
      "Epoch: 125/200  | Train loss: 0.3821 | Train acc: 0.8417  | Valid loss: 0.3678  | Valid acc: 0.9333\n",
      "Epoch: 126/200  | Train loss: 0.3795 | Train acc: 0.8417  | Valid loss: 0.3650  | Valid acc: 0.9333\n",
      "Epoch: 127/200  | Train loss: 0.3770 | Train acc: 0.8417  | Valid loss: 0.3621  | Valid acc: 0.9333\n",
      "Epoch: 128/200  | Train loss: 0.3745 | Train acc: 0.8417  | Valid loss: 0.3591  | Valid acc: 0.9333\n",
      "Epoch: 129/200  | Train loss: 0.3716 | Train acc: 0.8417  | Valid loss: 0.3559  | Valid acc: 0.9333\n",
      "Epoch: 130/200  | Train loss: 0.3688 | Train acc: 0.8417  | Valid loss: 0.3530  | Valid acc: 0.9333\n",
      "Epoch: 131/200  | Train loss: 0.3660 | Train acc: 0.8417  | Valid loss: 0.3502  | Valid acc: 0.9333\n",
      "Epoch: 132/200  | Train loss: 0.3631 | Train acc: 0.8417  | Valid loss: 0.3467  | Valid acc: 0.9333\n",
      "Epoch: 133/200  | Train loss: 0.3601 | Train acc: 0.8417  | Valid loss: 0.3434  | Valid acc: 0.9333\n",
      "Epoch: 134/200  | Train loss: 0.3573 | Train acc: 0.8417  | Valid loss: 0.3400  | Valid acc: 0.9333\n",
      "Epoch: 135/200  | Train loss: 0.3544 | Train acc: 0.8417  | Valid loss: 0.3366  | Valid acc: 0.9333\n",
      "Epoch: 136/200  | Train loss: 0.3515 | Train acc: 0.8500  | Valid loss: 0.3335  | Valid acc: 0.9333\n",
      "Epoch: 137/200  | Train loss: 0.3485 | Train acc: 0.8500  | Valid loss: 0.3300  | Valid acc: 0.9333\n",
      "Epoch: 138/200  | Train loss: 0.3453 | Train acc: 0.8500  | Valid loss: 0.3264  | Valid acc: 0.9333\n",
      "Epoch: 139/200  | Train loss: 0.3419 | Train acc: 0.8583  | Valid loss: 0.3229  | Valid acc: 0.9333\n",
      "Epoch: 140/200  | Train loss: 0.3388 | Train acc: 0.8583  | Valid loss: 0.3191  | Valid acc: 0.9333\n",
      "Epoch: 141/200  | Train loss: 0.3354 | Train acc: 0.8750  | Valid loss: 0.3146  | Valid acc: 0.9333\n",
      "Epoch: 142/200  | Train loss: 0.3316 | Train acc: 0.8667  | Valid loss: 0.3111  | Valid acc: 0.9333\n",
      "Epoch: 143/200  | Train loss: 0.3279 | Train acc: 0.8750  | Valid loss: 0.3066  | Valid acc: 0.9333\n",
      "Epoch: 144/200  | Train loss: 0.3245 | Train acc: 0.8833  | Valid loss: 0.3025  | Valid acc: 0.9333\n",
      "Epoch: 145/200  | Train loss: 0.3209 | Train acc: 0.8917  | Valid loss: 0.2985  | Valid acc: 0.9333\n",
      "Epoch: 146/200  | Train loss: 0.3171 | Train acc: 0.8917  | Valid loss: 0.2953  | Valid acc: 0.9333\n",
      "Epoch: 147/200  | Train loss: 0.3142 | Train acc: 0.9000  | Valid loss: 0.2914  | Valid acc: 0.9333\n",
      "Epoch: 148/200  | Train loss: 0.3108 | Train acc: 0.9000  | Valid loss: 0.2877  | Valid acc: 0.9333\n",
      "Epoch: 149/200  | Train loss: 0.3072 | Train acc: 0.9000  | Valid loss: 0.2836  | Valid acc: 0.9333\n",
      "Epoch: 150/200  | Train loss: 0.3039 | Train acc: 0.9083  | Valid loss: 0.2806  | Valid acc: 0.9333\n",
      "Epoch: 151/200  | Train loss: 0.2999 | Train acc: 0.9167  | Valid loss: 0.2760  | Valid acc: 0.9333\n",
      "Epoch: 152/200  | Train loss: 0.2957 | Train acc: 0.9167  | Valid loss: 0.2726  | Valid acc: 1.0000\n",
      "Epoch: 153/200  | Train loss: 0.2920 | Train acc: 0.9250  | Valid loss: 0.2696  | Valid acc: 1.0000\n",
      "Epoch: 154/200  | Train loss: 0.2882 | Train acc: 0.9333  | Valid loss: 0.2658  | Valid acc: 1.0000\n",
      "Epoch: 155/200  | Train loss: 0.2838 | Train acc: 0.9333  | Valid loss: 0.2626  | Valid acc: 1.0000\n",
      "Epoch: 156/200  | Train loss: 0.2801 | Train acc: 0.9417  | Valid loss: 0.2590  | Valid acc: 1.0000\n",
      "Epoch: 157/200  | Train loss: 0.2762 | Train acc: 0.9417  | Valid loss: 0.2563  | Valid acc: 1.0000\n",
      "Epoch: 158/200  | Train loss: 0.2718 | Train acc: 0.9417  | Valid loss: 0.2531  | Valid acc: 1.0000\n",
      "Epoch: 159/200  | Train loss: 0.2678 | Train acc: 0.9417  | Valid loss: 0.2498  | Valid acc: 1.0000\n",
      "Epoch: 160/200  | Train loss: 0.2643 | Train acc: 0.9417  | Valid loss: 0.2470  | Valid acc: 1.0000\n",
      "Epoch: 161/200  | Train loss: 0.2596 | Train acc: 0.9500  | Valid loss: 0.2431  | Valid acc: 1.0000\n",
      "Epoch: 162/200  | Train loss: 0.2558 | Train acc: 0.9583  | Valid loss: 0.2395  | Valid acc: 1.0000\n",
      "Epoch: 163/200  | Train loss: 0.2515 | Train acc: 0.9583  | Valid loss: 0.2364  | Valid acc: 1.0000\n",
      "Epoch: 164/200  | Train loss: 0.2474 | Train acc: 0.9583  | Valid loss: 0.2328  | Valid acc: 1.0000\n",
      "Epoch: 165/200  | Train loss: 0.2436 | Train acc: 0.9583  | Valid loss: 0.2295  | Valid acc: 1.0000\n",
      "Epoch: 166/200  | Train loss: 0.2395 | Train acc: 0.9583  | Valid loss: 0.2260  | Valid acc: 1.0000\n",
      "Epoch: 167/200  | Train loss: 0.2359 | Train acc: 0.9583  | Valid loss: 0.2224  | Valid acc: 1.0000\n",
      "Epoch: 168/200  | Train loss: 0.2319 | Train acc: 0.9583  | Valid loss: 0.2192  | Valid acc: 1.0000\n",
      "Epoch: 169/200  | Train loss: 0.2280 | Train acc: 0.9583  | Valid loss: 0.2160  | Valid acc: 1.0000\n",
      "Epoch: 170/200  | Train loss: 0.2239 | Train acc: 0.9583  | Valid loss: 0.2129  | Valid acc: 1.0000\n",
      "Epoch: 171/200  | Train loss: 0.2208 | Train acc: 0.9583  | Valid loss: 0.2100  | Valid acc: 1.0000\n",
      "Epoch: 172/200  | Train loss: 0.2169 | Train acc: 0.9583  | Valid loss: 0.2069  | Valid acc: 1.0000\n",
      "Epoch: 173/200  | Train loss: 0.2133 | Train acc: 0.9583  | Valid loss: 0.2037  | Valid acc: 1.0000\n",
      "Epoch: 174/200  | Train loss: 0.2099 | Train acc: 0.9583  | Valid loss: 0.2005  | Valid acc: 1.0000\n",
      "Epoch: 175/200  | Train loss: 0.2069 | Train acc: 0.9583  | Valid loss: 0.1977  | Valid acc: 1.0000\n",
      "Epoch: 176/200  | Train loss: 0.2036 | Train acc: 0.9583  | Valid loss: 0.1951  | Valid acc: 1.0000\n",
      "Epoch: 177/200  | Train loss: 0.2007 | Train acc: 0.9583  | Valid loss: 0.1924  | Valid acc: 1.0000\n",
      "Epoch: 178/200  | Train loss: 0.1980 | Train acc: 0.9583  | Valid loss: 0.1903  | Valid acc: 1.0000\n",
      "Epoch: 179/200  | Train loss: 0.1954 | Train acc: 0.9583  | Valid loss: 0.1880  | Valid acc: 1.0000\n",
      "Epoch: 180/200  | Train loss: 0.1922 | Train acc: 0.9583  | Valid loss: 0.1850  | Valid acc: 1.0000\n",
      "Epoch: 181/200  | Train loss: 0.1894 | Train acc: 0.9583  | Valid loss: 0.1829  | Valid acc: 1.0000\n",
      "Epoch: 182/200  | Train loss: 0.1870 | Train acc: 0.9583  | Valid loss: 0.1808  | Valid acc: 1.0000\n",
      "Epoch: 183/200  | Train loss: 0.1845 | Train acc: 0.9583  | Valid loss: 0.1780  | Valid acc: 1.0000\n",
      "Epoch: 184/200  | Train loss: 0.1814 | Train acc: 0.9583  | Valid loss: 0.1762  | Valid acc: 1.0000\n",
      "Epoch: 185/200  | Train loss: 0.1793 | Train acc: 0.9583  | Valid loss: 0.1746  | Valid acc: 1.0000\n",
      "Epoch: 186/200  | Train loss: 0.1768 | Train acc: 0.9583  | Valid loss: 0.1721  | Valid acc: 1.0000\n",
      "Epoch: 187/200  | Train loss: 0.1744 | Train acc: 0.9583  | Valid loss: 0.1701  | Valid acc: 1.0000\n",
      "Epoch: 188/200  | Train loss: 0.1723 | Train acc: 0.9500  | Valid loss: 0.1685  | Valid acc: 1.0000\n",
      "Epoch: 189/200  | Train loss: 0.1704 | Train acc: 0.9583  | Valid loss: 0.1662  | Valid acc: 1.0000\n",
      "Epoch: 190/200  | Train loss: 0.1681 | Train acc: 0.9500  | Valid loss: 0.1648  | Valid acc: 1.0000\n",
      "Epoch: 191/200  | Train loss: 0.1664 | Train acc: 0.9500  | Valid loss: 0.1626  | Valid acc: 1.0000\n",
      "Epoch: 192/200  | Train loss: 0.1640 | Train acc: 0.9583  | Valid loss: 0.1612  | Valid acc: 1.0000\n",
      "Epoch: 193/200  | Train loss: 0.1623 | Train acc: 0.9583  | Valid loss: 0.1593  | Valid acc: 1.0000\n",
      "Epoch: 194/200  | Train loss: 0.1607 | Train acc: 0.9667  | Valid loss: 0.1578  | Valid acc: 1.0000\n",
      "Epoch: 195/200  | Train loss: 0.1584 | Train acc: 0.9750  | Valid loss: 0.1559  | Valid acc: 1.0000\n",
      "Epoch: 196/200  | Train loss: 0.1571 | Train acc: 0.9750  | Valid loss: 0.1538  | Valid acc: 1.0000\n",
      "Epoch: 197/200  | Train loss: 0.1555 | Train acc: 0.9750  | Valid loss: 0.1527  | Valid acc: 1.0000\n",
      "Epoch: 198/200  | Train loss: 0.1531 | Train acc: 0.9750  | Valid loss: 0.1508  | Valid acc: 1.0000\n",
      "Epoch: 199/200  | Train loss: 0.1517 | Train acc: 0.9833  | Valid loss: 0.1492  | Valid acc: 1.0000\n",
      "Epoch: 200/200  | Train loss: 0.1498 | Train acc: 0.9833  | Valid loss: 0.1479  | Valid acc: 1.0000\n"
     ]
    }
   ],
   "source": [
    "num_epochs = 200\n",
    "train_losses = []\n",
    "train_accuracies = []\n",
    "valid_losses = []\n",
    "valid_accuracies = []\n",
    "\n",
    "for epoch in range(num_epochs):\n",
    "    model.train()\n",
    "    total_loss = 0.0\n",
    "    for (x_batch, y_batch) in train_loader:\n",
    "        optimizer.zero_grad()\n",
    "        logits = model(x_batch)\n",
    "        loss = loss_fn(logits, y_batch)\n",
    "        loss.backward()\n",
    "        optimizer.step()\n",
    "\n",
    "        total_loss += loss.item()\n",
    "    \n",
    "    train_loss = total_loss/len(train_loader)\n",
    "    train_acc = calculate_loader_accuracy(train_loader, model)\n",
    "    train_losses.append(train_loss)\n",
    "    train_accuracies.append(train_acc)\n",
    "\n",
    "    # Eval\n",
    "    val_acc, val_loss = evaluate(test_loader, model)\n",
    "    valid_losses.append(val_loss)\n",
    "    valid_accuracies.append(val_acc)\n",
    "    print(f\"Epoch: {epoch+1:02d}/{num_epochs:02d}\",\n",
    "          f\" | Train loss: {train_loss:.4f}\"\n",
    "          f\" | Train acc: {train_acc:.4f}\",\n",
    "          f\" | Valid loss: {val_loss:.4f}\",\n",
    "          f\" | Valid acc: {val_acc:.4f}\")\n"
   ]
  },
  {
   "cell_type": "code",
   "execution_count": 19,
   "metadata": {},
   "outputs": [],
   "source": [
    "# utility fuction to calculate batch accuracy\n",
    "def calculate_batch_accuracy(logits, true_labels):\n",
    "    predicted_labels = torch.argmax(logits, dim=-1)\n",
    "    correct = sum(predicted_labels == true_labels)\n",
    "    return (correct / predicted_labels.shape[0]).item()"
   ]
  },
  {
   "cell_type": "code",
   "execution_count": 20,
   "metadata": {},
   "outputs": [],
   "source": [
    "import matplotlib.pyplot as plt\n",
    " \n",
    "# utility function to plot loss and accuracy\n",
    "def plot_values(num_epochs, train_values, val_values, label=\"loss\"):\n",
    "    fig, ax1 = plt.subplots(figsize=(5, 3))\n",
    " \n",
    "\n",
    "    ax1.plot(range(num_epochs), train_values, label=f\"Training {label}\")\n",
    "    ax1.plot(range(num_epochs), val_values, linestyle=\"-.\", label=f\"Validation {label}\")\n",
    "    ax1.set_xlabel(\"Epochs\")\n",
    "    ax1.set_ylabel(label.capitalize())\n",
    "    ax1.legend()\n",
    " \n",
    "    fig.tight_layout()\n",
    "    plt.savefig(f\"{label}-plot.pdf\")\n",
    "    plt.show()"
   ]
  },
  {
   "cell_type": "code",
   "execution_count": 21,
   "metadata": {},
   "outputs": [
    {
     "data": {
      "text/plain": [
       "200"
      ]
     },
     "execution_count": 21,
     "metadata": {},
     "output_type": "execute_result"
    }
   ],
   "source": [
    "num_epochs"
   ]
  },
  {
   "cell_type": "code",
   "execution_count": 22,
   "metadata": {},
   "outputs": [
    {
     "data": {
      "text/plain": [
       "200"
      ]
     },
     "execution_count": 22,
     "metadata": {},
     "output_type": "execute_result"
    }
   ],
   "source": [
    "len(train_losses)"
   ]
  },
  {
   "cell_type": "markdown",
   "metadata": {},
   "source": [
    "## Plot train/validation losses and accuracies"
   ]
  },
  {
   "cell_type": "code",
   "execution_count": 23,
   "metadata": {},
   "outputs": [
    {
     "data": {
      "image/png": "[encoded data removed]",
      "text/plain": [
       "<Figure size 500x300 with 1 Axes>"
      ]
     },
     "metadata": {},
     "output_type": "display_data"
    }
   ],
   "source": [
    "plot_values(num_epochs, train_losses, valid_losses)"
   ]
  },
  {
   "cell_type": "code",
   "execution_count": 24,
   "metadata": {},
   "outputs": [
    {
     "data": {
      "image/png": "[encoded data removed]",
      "text/plain": [
       "<Figure size 500x300 with 1 Axes>"
      ]
     },
     "metadata": {},
     "output_type": "display_data"
    }
   ],
   "source": [
    "plot_values(num_epochs, train_accuracies, valid_accuracies, label=\"accuracy\")"
   ]
  }
 ],
 "metadata": {
  "kernelspec": {
   "display_name": "torch",
   "language": "python",
   "name": "python3"
  },
  "language_info": {
   "codemirror_mode": {
    "name": "ipython",
    "version": 3
   },
   "file_extension": ".py",
   "mimetype": "text/x-python",
   "name": "python",
   "nbconvert_exporter": "python",
   "pygments_lexer": "ipython3",
   "version": "3.11.9"
  }
 },
 "nbformat": 4,
 "nbformat_minor": 2
}
